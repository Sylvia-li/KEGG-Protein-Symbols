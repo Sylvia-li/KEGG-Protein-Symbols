{
 "cells": [
  {
   "cell_type": "markdown",
   "id": "219f46b3",
   "metadata": {},
   "source": [
    "### Gathering protein name/symbol data from KEGG database w/ API\n",
    "> meant to be run in a folder with only this python script and the .csv files with geneID's we will be gathering the protein symbols from - nothing else. Will create new folder with the output (files w/ protein symbols). Gene ID's should be in the first column of original CSV files"
   ]
  },
  {
   "cell_type": "code",
   "execution_count": null,
   "id": "d2e32bfb",
   "metadata": {},
   "outputs": [],
   "source": [
    "from Bio.KEGG import REST\n",
    "import glob\n",
    "import io\n",
    "import os\n",
    "import pandas as pd\n",
    "import csv\n",
    "import re\n",
    "import ssl\n",
    "ssl._create_default_https_context = ssl._create_unverified_context\n",
    "\n",
    "def to_df(result):\n",
    "    \"\"\"\n",
    "    Turns tabulated data into pandas dataframe\n",
    "        Will be used here to change entry taken from KEGG database into pandas dataframe\n",
    "    \"\"\"\n",
    "    return pd.read_table(io.StringIO(result), header=None)\n",
    "\n",
    "FileList = glob.glob('*.csv') #List of files we will be getting protein symbols from\n",
    "\n",
    "\n",
    "for filename in FileList: #for every file we will be going through\n",
    "    proteinSymbols = []\n",
    "    df = pd.read_csv(filename)\n",
    "    for identification in df[df.columns[0]]: #For every gene ID in the file\n",
    "        k = REST.kegg_find(\"genes\", identification).read() #query the database for the entry\n",
    "        dataKegg = to_df(k) #transform into pandas dataframe\n",
    "        proteinString = dataKegg[1][0] #get the protein symbol\n",
    "        split_string = re.split(r'[;\\ ,]', proteinString) #clean the protein symbol \n",
    "        if (split_string[0] == 'hypothetical'):\n",
    "            proteinSymbols.append('Hypothetical Protein') #if no protein symbol exists\n",
    "        else:\n",
    "            proteinSymbols.append(split_string[0]) #take first protein symbol if there are multiple\n",
    "    df['ProteinSymbol'] = proteinSymbols\n",
    "    df.to_csv('proteinSymbols ' + filename)"
   ]
  },
  {
   "cell_type": "code",
   "execution_count": 113,
   "id": "4b767785",
   "metadata": {},
   "outputs": [
    {
     "name": "stdout",
     "output_type": "stream",
     "text": [
      "['proteinSymbols in_vitro_K10_vs_in_vitro_gc86 (1).csv.csv', 'proteinSymbols in_vivo_gc86_vs_in_vitro_gc86 (1).csv.csv', 'proteinSymbols in_vivo_K10_vs_in_vitro_K10 (1).csv.csv', 'proteinSymbols in_vivo_K10_vs_in_vivo_gc86 (1).csv.csv']\n"
     ]
    }
   ],
   "source": [
    "import shutil\n",
    "ProteinFiles = glob.glob('proteinSymbols *') #for every new proteinSymbol file made\n",
    "if (not os.path.exists(\"Output - Protein symbols\")): #create new folder for output\n",
    "    path = os.path.join(\"Output - Protein symbols\")\n",
    "    os.mkdir(path, 0o666)\n",
    "for file in ProteinFiles: #move the newly created files\n",
    "    shutil.move(file, \"Output - Protein symbols\")"
   ]
  }
 ],
 "metadata": {
  "kernelspec": {
   "display_name": "Python 3 (ipykernel)",
   "language": "python",
   "name": "python3"
  },
  "language_info": {
   "codemirror_mode": {
    "name": "ipython",
    "version": 3
   },
   "file_extension": ".py",
   "mimetype": "text/x-python",
   "name": "python",
   "nbconvert_exporter": "python",
   "pygments_lexer": "ipython3",
   "version": "3.9.12"
  }
 },
 "nbformat": 4,
 "nbformat_minor": 5
}
